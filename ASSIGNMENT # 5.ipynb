{
 "cells": [
  {
   "cell_type": "markdown",
   "metadata": {},
   "source": [
    "# QUESTION 1"
   ]
  },
  {
   "cell_type": "code",
   "execution_count": 50,
   "metadata": {},
   "outputs": [
    {
     "name": "stdout",
     "output_type": "stream",
     "text": [
      "factorial of 4 is 24\n"
     ]
    }
   ],
   "source": [
    "def factorial_calculation(number):\n",
    "    factorial=1\n",
    "    if factorial==0:\n",
    "        print(\"the factorial of 0 is {}\".format(factorial))\n",
    "    elif factorial <0 :\n",
    "        print(\"sorry factorial does no exit \")\n",
    "    else:\n",
    "        for i in range(1,number+1):\n",
    "            factorial*=i\n",
    "        print(\"factorial of {0} is {1}\".format(number,factorial))\n",
    "factorial_calculation(4)        \n",
    "        \n",
    "        "
   ]
  },
  {
   "cell_type": "markdown",
   "metadata": {},
   "source": [
    "# QUESTION 2"
   ]
  },
  {
   "cell_type": "code",
   "execution_count": 51,
   "metadata": {},
   "outputs": [
    {
     "name": "stdout",
     "output_type": "stream",
     "text": [
      "ORIGNAL:THIS is A StrinG\n",
      "UPPER_CASE:7\n",
      "LOWER_CASE:6\n"
     ]
    }
   ],
   "source": [
    "def calculate_string_case(string):\n",
    "    case_dict={\"uppercase\":0,\"lowercase\":0}\n",
    "    for strn in string:\n",
    "        if strn.isupper():\n",
    "            case_dict['uppercase']+=1\n",
    "        elif strn.islower():\n",
    "            case_dict['lowercase']+=1\n",
    "        else:\n",
    "            pass\n",
    "    print(\"ORIGNAL:{}\".format(string))\n",
    "    print(\"UPPER_CASE:{}\".format(case_dict['uppercase']))\n",
    "    print(\"LOWER_CASE:{}\".format(case_dict['lowercase']))\n",
    "    \n",
    "calculate_string_case(\"THIS is A StrinG\")    "
   ]
  },
  {
   "cell_type": "markdown",
   "metadata": {},
   "source": [
    "# QUESTION 3"
   ]
  },
  {
   "cell_type": "code",
   "execution_count": 52,
   "metadata": {},
   "outputs": [
    {
     "name": "stdout",
     "output_type": "stream",
     "text": [
      "0 2 4 6 8 "
     ]
    }
   ],
   "source": [
    "def even_number(list):\n",
    "    for i in range(len(list)):\n",
    "        if i%2==0:\n",
    "            print(\"{}\".format(i),end=' ')\n",
    "even_number([1,2,3,4,5,6,7,8,9,10])"
   ]
  },
  {
   "cell_type": "markdown",
   "metadata": {},
   "source": [
    "# QUESTION 4"
   ]
  },
  {
   "cell_type": "code",
   "execution_count": 53,
   "metadata": {},
   "outputs": [
    {
     "name": "stdout",
     "output_type": "stream",
     "text": [
      "yes it is palindrome value madam---madam\n"
     ]
    }
   ],
   "source": [
    "def palidrome(user):\n",
    "    input_user=user.casefold()\n",
    "    reverse=input_user[::-1]\n",
    "    if input_user==reverse:\n",
    "        print(\"yes it is palindrome value {0}---{1}\".format(input_user,reverse))\n",
    "    else:\n",
    "        print(\"sorry your value was not palindrome {0}---{1}\".format(input_user,reverse))\n",
    "palidrome(\"madaM\")        "
   ]
  },
  {
   "cell_type": "markdown",
   "metadata": {},
   "source": [
    "# QUESTION 5"
   ]
  },
  {
   "cell_type": "code",
   "execution_count": 54,
   "metadata": {},
   "outputs": [
    {
     "name": "stdout",
     "output_type": "stream",
     "text": [
      "13 is a prime number\n"
     ]
    }
   ],
   "source": [
    "def check_prime_number(number):\n",
    "    if number>0:\n",
    "        for i in range(2,number):\n",
    "            if (number%i)==0:\n",
    "                print(\"{} is not a prime number\".format(number))\n",
    "                print(\"{} times {} is {}\".format(i,number//2,number))\n",
    "                break\n",
    "        else:\n",
    "            print(\"{} is a prime number\".format(number))\n",
    "                \n",
    "    else:\n",
    "        print(\" its not a prime number!\")\n",
    "check_prime_number(13)        "
   ]
  },
  {
   "cell_type": "markdown",
   "metadata": {},
   "source": [
    "# QUESTION 6"
   ]
  },
  {
   "cell_type": "code",
   "execution_count": 55,
   "metadata": {},
   "outputs": [
    {
     "name": "stdout",
     "output_type": "stream",
     "text": [
      "YOUR ITEMS ARE:\n",
      "item0:JUICE\n",
      "item1:T-SHIRT\n",
      "item2:FRIUTS\n",
      "item3:COLD DRINK\n",
      "thanks for shoppings!\n"
     ]
    }
   ],
   "source": [
    "def item_bougth(*items):\n",
    "    print(\"YOUR ITEMS ARE:\")\n",
    "    for i in range(len(items)):\n",
    "        print(\"item{}:{}\".format(i,items[i]))\n",
    "    print(\"thanks for shoppings!\")    \n",
    "    \n",
    "item_bougth(\"JUICE\",\"T-SHIRT\",\"FRIUTS\",\"COLD DRINK\")       "
   ]
  },
  {
   "cell_type": "code",
   "execution_count": null,
   "metadata": {},
   "outputs": [],
   "source": []
  }
 ],
 "metadata": {
  "kernelspec": {
   "display_name": "Python 3",
   "language": "python",
   "name": "python3"
  },
  "language_info": {
   "codemirror_mode": {
    "name": "ipython",
    "version": 3
   },
   "file_extension": ".py",
   "mimetype": "text/x-python",
   "name": "python",
   "nbconvert_exporter": "python",
   "pygments_lexer": "ipython3",
   "version": "3.7.3"
  }
 },
 "nbformat": 4,
 "nbformat_minor": 2
}
